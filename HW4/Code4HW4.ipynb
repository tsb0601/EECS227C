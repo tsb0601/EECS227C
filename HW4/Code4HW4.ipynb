{
 "cells": [
  {
   "cell_type": "code",
   "execution_count": 34,
   "id": "af7e3bb5",
   "metadata": {},
   "outputs": [],
   "source": [
    "import numpy as np\n",
    "import matplotlib.pyplot as plt\n",
    "def f(x, eps):\n",
    "    return (1/eps) * sum([(i+1)*x_i for x_i, i in zip(x, range(10))]) - sum([np.log(1-x_i**2) for x_i in x]) \n",
    "    \n",
    "def df(x, eps):\n",
    "    return np.array([(1/eps)*(i+1) + 2*x_i/(1-x_i**2)for x_i, i in zip(x, range(10))])\n",
    "\n",
    "def ddf(x, eps):\n",
    "    twice_diff = np.zeros((10, 10))\n",
    "    for x_i, i in zip(x, range(10)):\n",
    "        twice_diff[i, i] = (2+2*x_i**2)/(1-x_i**2)**2\n",
    "    return twice_diff\n",
    "\n",
    "\n",
    "def lambd(df, ddf, x, eps):\n",
    "    return np.sqrt(df(x, eps).T@np.linalg.inv(ddf(x, eps))@df(x, eps))\n",
    "\n",
    "def find_s(x, d, f, df, eps, beta=0.5, alpha = 0.01):\n",
    "    s = 2\n",
    "    while s > 0:\n",
    "        if f(x+s*d, eps) < f(x, eps)+ alpha * s * df(x, eps).T @ d:\n",
    "            break\n",
    "        else:\n",
    "            s = s*beta\n",
    "    return s\n",
    "        \n",
    "    \n",
    "    \n",
    "    "
   ]
  },
  {
   "cell_type": "code",
   "execution_count": 36,
   "id": "325ae0fd",
   "metadata": {},
   "outputs": [
    {
     "name": "stdout",
     "output_type": "stream",
     "text": [
      "At epsilon: 1 f(x) is -35.403225519724245\n",
      "At epsilon: 0.1 f(x) is -508.6548096579975\n",
      "At epsilon: 0.01 f(x) is -5435.760712581269\n",
      "At epsilon: 0.005 f(x) is -10928.836563152647\n"
     ]
    },
    {
     "name": "stderr",
     "output_type": "stream",
     "text": [
      "C:\\Users\\97300\\AppData\\Local\\Temp\\ipykernel_44168\\1231362001.py:4: RuntimeWarning: divide by zero encountered in log\n",
      "  return (1/eps) * sum([(i+1)*x_i for x_i, i in zip(x, range(10))]) - sum([np.log(1-x_i**2) for x_i in x])\n",
      "C:\\Users\\97300\\AppData\\Local\\Temp\\ipykernel_44168\\1231362001.py:4: RuntimeWarning: invalid value encountered in log\n",
      "  return (1/eps) * sum([(i+1)*x_i for x_i, i in zip(x, range(10))]) - sum([np.log(1-x_i**2) for x_i in x])\n"
     ]
    },
    {
     "data": {
      "image/png": "[encoded data removed]",
      "text/plain": [
       "<Figure size 432x288 with 1 Axes>"
      ]
     },
     "metadata": {
      "needs_background": "light"
     },
     "output_type": "display_data"
    }
   ],
   "source": [
    "eps_lst = [1, 0.1, 0.01, 0.005]\n",
    "lamda_lst = [[], [], [], []]\n",
    "iteration_lst = []\n",
    "for eps, i in zip(eps_lst, range(4)):\n",
    "\n",
    "    x_0 = np.zeros(10)\n",
    "    x = x_0\n",
    "    iteration = 0\n",
    "    converged = False\n",
    "    \n",
    "    while not converged:\n",
    "        d = -np.linalg.inv(ddf(x, eps)) @ df(x, eps)\n",
    "        s = find_s(x, d, f, df, eps)\n",
    "        x = x+s*d\n",
    "        lambd_val = lambd(df, ddf, x, eps)\n",
    "        iteration += 1\n",
    "        lamda_lst[i].append(lambd_val)\n",
    "        if lambd_val <= 1e-6:\n",
    "            print(\"At epsilon:\", eps, \"f(x) is\", f(x, eps))\n",
    "            break\n",
    "    iteration_lst.append(iteration)\n",
    "\n",
    "\n",
    "plt.plot(np.arange(iteration_lst[0]), lamda_lst[0], label = \"eps=1\") \n",
    "\n",
    "plt.plot(np.arange(iteration_lst[1]), lamda_lst[1], label = \"eps=0.1\") \n",
    "\n",
    "plt.plot(np.arange(iteration_lst[2]), lamda_lst[2], label = \"eps=0.01\") \n",
    "\n",
    "plt.plot(np.arange(iteration_lst[3]), lamda_lst[3], label = \"eps=0.005\") \n",
    "plt.legend()\n",
    "plt.show()\n",
    "\n",
    "    \n"
   ]
  },
  {
   "cell_type": "code",
   "execution_count": null,
   "id": "c6c6027a",
   "metadata": {},
   "outputs": [],
   "source": []
  }
 ],
 "metadata": {
  "kernelspec": {
   "display_name": "Python 3 (ipykernel)",
   "language": "python",
   "name": "python3"
  },
  "language_info": {
   "codemirror_mode": {
    "name": "ipython",
    "version": 3
   },
   "file_extension": ".py",
   "mimetype": "text/x-python",
   "name": "python",
   "nbconvert_exporter": "python",
   "pygments_lexer": "ipython3",
   "version": "3.10.4"
  }
 },
 "nbformat": 4,
 "nbformat_minor": 5
}
