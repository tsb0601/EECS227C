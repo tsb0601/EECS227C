{
 "cells": [
  {
   "cell_type": "code",
   "execution_count": 1,
   "id": "199f7a65",
   "metadata": {},
   "outputs": [],
   "source": [
    "import numpy as np\n",
    "import matplotlib.pyplot as plt\n",
    "import cvxpy as cvx"
   ]
  },
  {
   "cell_type": "code",
   "execution_count": 2,
   "id": "786d6d8a",
   "metadata": {},
   "outputs": [],
   "source": [
    "#############\n",
    "## Part(a) ##\n",
    "#############\n",
    "def get_A(k):\n",
    "    A = np.zeros((10, 10))\n",
    "    for i in range(10):\n",
    "        for j in range(10):\n",
    "            if i < j:\n",
    "                A[i, j] = np.exp((i+1)/(j+1))*np.cos((i+1)*(j+1))*np.sin(k)\n",
    "                A[j, i] = A[i, j]\n",
    "    \n",
    "    for i in range(10):\n",
    "        A[i, i] = ((i+1)/10)*abs(np.sin(k)) + sum([abs(A[i, j]) for j in range(10) if i!=j])\n",
    "    return A\n",
    "\n",
    "def get_b(k):\n",
    "    b = np.zeros((10))\n",
    "    for i in range(10):\n",
    "        b[i] = np.exp((i+1)/k)*np.sin((i+1)*k)\n",
    "    return b\n",
    "\n",
    "def solve_f(x):\n",
    "    k_val = []\n",
    "    for i in range(5):\n",
    "        k = i + 1\n",
    "        A_k = get_A(k)\n",
    "        b_k = get_b(k)\n",
    "        f_x = x.T @ A_k @ x - b_k.T @ x\n",
    "        k_val.append(f_x)\n",
    "    #print(\"Values are\", k_val)\n",
    "    return max(k_val)\n",
    "    "
   ]
  },
  {
   "cell_type": "code",
   "execution_count": 3,
   "id": "a887604c",
   "metadata": {},
   "outputs": [
    {
     "name": "stdout",
     "output_type": "stream",
     "text": [
      "f(x1) is : 5337.066429311362\n"
     ]
    }
   ],
   "source": [
    "#############\n",
    "## Part(a) ##\n",
    "#############\n",
    "x_1 = np.ones(10)\n",
    "print(\"f(x1) is :\", solve_f(x_1))\n",
    "\n"
   ]
  },
  {
   "cell_type": "code",
   "execution_count": 4,
   "id": "d8312745",
   "metadata": {},
   "outputs": [],
   "source": [
    "#############\n",
    "## Part(b) ##\n",
    "#############\n",
    "\n",
    "def find_descent(A, b, x):\n",
    "    df = 2*(A@x)-b\n",
    "    df_norm = np.linalg.norm(df, 2)\n",
    "    if df_norm == 0:\n",
    "        converged = True\n",
    "    else:\n",
    "        converged = False\n",
    "\n",
    "    return df/df_norm,converged, df_norm\n",
    "    \n",
    "\n"
   ]
  },
  {
   "cell_type": "code",
   "execution_count": 9,
   "id": "dd5a312f",
   "metadata": {},
   "outputs": [
    {
     "name": "stdout",
     "output_type": "stream",
     "text": [
      "x optimal is: [-0.1242404  -0.02863066 -0.00049057  0.02455636  0.05772036 -0.28690269\n",
      "  0.07659779  0.14202416  0.08202256  0.03681626]\n"
     ]
    }
   ],
   "source": [
    "import cvxpy as cvx\n",
    "#############\n",
    "## Part(b) ##\n",
    "#############\n",
    "converge = False\n",
    "loss = []\n",
    "ite = []\n",
    "x = np.ones(10)\n",
    "t = 1\n",
    "C =0.08\n",
    "tol = 0.00001\n",
    "\n",
    "xs = []\n",
    "A = [get_A(i+1) for i in range(5)] \n",
    "b = [get_b(i+1) for i in range(5)] \n",
    "\n",
    "def f(x, As = A, bs = b):\n",
    "\n",
    "    val = [x.T @ A @ x - b.T@x for (A, b) in zip(As, bs)]\n",
    "    np_val = np.array(val)\n",
    "    k = np.argmax(np_val)\n",
    "    \n",
    "    \n",
    "    return max(val), k\n",
    "\n",
    "def df(x, A, b):\n",
    "    val = (A + A.T)@x - b\n",
    "\n",
    "    return val\n",
    "\n",
    "def f_i(x, x_j, f = f, df = df, A = A, b = b):\n",
    "\n",
    "    f_val, k = f(x_j)\n",
    "    \n",
    "\n",
    "    \n",
    "    val = f_val + df(x_j, A[k], b[k]).T @ (x-x_j)\n",
    "    \n",
    "    \n",
    "    return val\n",
    "    \n",
    "def f_i_x(f, df, x, xs):\n",
    "\n",
    "    #val = max([f_i(x, x_j, f, df) for x_j in xs])\n",
    "    \n",
    "    #print([f_i(x, x_j, f, df) for x_j in xs])\n",
    "    \n",
    "    \n",
    "\n",
    "    x_helper = cvx.hstack([f_i(x, x_j, f, df) for x_j in xs])\n",
    "    \n",
    "    \n",
    "    return cvx.max(x_helper)\n",
    "\n",
    "\n",
    "\n",
    "def min_f_i_x(f, df, xs):\n",
    "    x = cvx.Variable(10)\n",
    "    \n",
    "    #print(\"I executed1\")\n",
    "\n",
    "    obj = cvx.Minimize(f_i_x(f, df, x, xs))\n",
    "    constraint = [cvx.norm(x, 2)<=1]\n",
    "\n",
    "    prob = cvx.Problem(obj, constraint)\n",
    "    prob.solve()\n",
    "    #print(\"I executed3\")\n",
    "    \n",
    "    return obj.value\n",
    "    \n",
    "def min_f(xs):\n",
    "\n",
    "\n",
    "    return min([f(x_j)[0] for x_j in xs])\n",
    "\n",
    "def project(x, f, df, l_i):\n",
    "    x_proj = cvx.Variable(10)\n",
    "    obj = cvx.Minimize(cvx.norm(x - x_proj, 2))\n",
    "    constraint = [cvx.norm(x_proj, 2)<=1, f_i_x(f, df, x_proj, xs)<=l_i]\n",
    "    prob = cvx.Problem(obj, constraint)\n",
    "    prob.solve()\n",
    "    return x_proj.value\n",
    "    \n",
    "x_i = np.ones(10)\n",
    "lambd = 0.1\n",
    "iteration = 50\n",
    "xs.append(x_i)\n",
    "for i in range(iteration):\n",
    "\n",
    "    \n",
    "\n",
    "    f_minus = min_f_i_x(f, df, xs)\n",
    "    f_plus = min_f(xs)\n",
    "\n",
    "    \n",
    "    l_i = (1-lambd) * f_minus + (lambd) * f_plus\n",
    "    #print(l_i)\n",
    "    x_proj = project(x_i, f, df, l_i)\n",
    "    #print(x_proj)\n",
    "    x_i = x_proj\n",
    "    xs.append(x_i)\n",
    "    #print(f(x_i)[0])\n",
    "    \n",
    "x_optimal = x_i\n",
    "print(\"x optimal is:\", x_optimal)\n",
    "\n",
    "\n",
    "\n"
   ]
  },
  {
   "cell_type": "code",
   "execution_count": 6,
   "id": "f6a8c309",
   "metadata": {},
   "outputs": [
    {
     "data": {
      "image/png": "[encoded data removed]",
      "text/plain": [
       "<Figure size 432x288 with 1 Axes>"
      ]
     },
     "metadata": {
      "needs_background": "light"
     },
     "output_type": "display_data"
    }
   ],
   "source": [
    "import cvxpy as cvx\n",
    "#############\n",
    "## Part(b) ##\n",
    "#############\n",
    "converge = False\n",
    "loss = []\n",
    "ite = []\n",
    "x = np.ones(10)\n",
    "t = 1\n",
    "C =0.08\n",
    "tol = 0.00001\n",
    "\n",
    "xs = []\n",
    "A = [get_A(i+1) for i in range(5)] \n",
    "b = [get_b(i+1) for i in range(5)] \n",
    "\n",
    "def f(x, As = A, bs = b):\n",
    "\n",
    "    val = [x.T @ A @ x - b.T@x for (A, b) in zip(As, bs)]\n",
    "    np_val = np.array(val)\n",
    "    k = np.argmax(np_val)\n",
    "    \n",
    "    \n",
    "    return max(val), k\n",
    "\n",
    "def df(x, A, b):\n",
    "    val = (A + A.T)@x - b\n",
    "\n",
    "    return val\n",
    "\n",
    "def f_i(x, x_j, f = f, df = df, A = A, b = b):\n",
    "\n",
    "    f_val, k = f(x_j)\n",
    "    \n",
    "\n",
    "    \n",
    "    val = f_val + df(x_j, A[k], b[k]).T @ (x-x_j)\n",
    "    \n",
    "    \n",
    "    return val\n",
    "    \n",
    "def f_i_x(f, df, x, xs):\n",
    "\n",
    "    #val = max([f_i(x, x_j, f, df) for x_j in xs])\n",
    "    \n",
    "    #print([f_i(x, x_j, f, df) for x_j in xs])\n",
    "    \n",
    "    \n",
    "\n",
    "    x_helper = cvx.hstack([f_i(x, x_j, f, df) for x_j in xs])\n",
    "    \n",
    "    \n",
    "    return cvx.max(x_helper)\n",
    "\n",
    "\n",
    "\n",
    "def min_f_i_x(f, df, xs):\n",
    "    x = cvx.Variable(10)\n",
    "    \n",
    "    #print(\"I executed1\")\n",
    "\n",
    "    obj = cvx.Minimize(f_i_x(f, df, x, xs))\n",
    "    constraint = [cvx.norm(x, 2)<=1]\n",
    "\n",
    "    prob = cvx.Problem(obj, constraint)\n",
    "    prob.solve()\n",
    "    #print(\"I executed3\")\n",
    "    \n",
    "    return obj.value\n",
    "    \n",
    "def min_f(xs):\n",
    "\n",
    "\n",
    "    return min([f(x_j)[0] for x_j in xs])\n",
    "\n",
    "def project(x, f, df, l_i):\n",
    "    x_proj = cvx.Variable(10)\n",
    "    obj = cvx.Minimize(cvx.norm(x - x_proj, 2))\n",
    "    constraint = [cvx.norm(x_proj, 2)<=1, f_i_x(f, df, x_proj, xs)<=l_i]\n",
    "    prob = cvx.Problem(obj, constraint)\n",
    "    prob.solve()\n",
    "    return x_proj.value\n",
    "    \n",
    "x_i = np.ones(10)\n",
    "lambd = 0.1\n",
    "iteration = 50\n",
    "xs.append(x_i)\n",
    "gap = []\n",
    "for i in range(iteration):\n",
    "\n",
    "    \n",
    "\n",
    "    f_minus = min_f_i_x(f, df, xs)\n",
    "    f_plus = min_f(xs)\n",
    "    #print(f_minus, f_plus)\n",
    "\n",
    "    \n",
    "    l_i = (1-lambd) * f_minus + (lambd) * f_plus\n",
    "    #print(l_i)\n",
    "    x_proj = project(x_i, f, df, l_i)\n",
    "    #print(x_proj)\n",
    "    x_i = x_proj\n",
    "    xs.append(x_i)\n",
    "    gap.append(abs(f(x_i)[0] - f(x_optimal)[0]))\n",
    "    \n",
    "ite = np.arange(iteration)   \n",
    "plt.plot(ite, gap)\n",
    "plt.show()\n"
   ]
  },
  {
   "cell_type": "code",
   "execution_count": 54,
   "id": "fbf0e88d",
   "metadata": {},
   "outputs": [
    {
     "data": {
      "image/png": "[encoded data removed]",
      "text/plain": [
       "<Figure size 432x288 with 1 Axes>"
      ]
     },
     "metadata": {
      "needs_background": "light"
     },
     "output_type": "display_data"
    }
   ],
   "source": [
    "################\n",
    "## Question 2 ##\n",
    "################\n",
    "\n",
    "############\n",
    "## Part A ##\n",
    "############\n",
    "\n",
    "A  = np.random.normal(size = (20, 20))\n",
    "x = np.ones(20)\n",
    "iteration = 0\n",
    "converged = False\n",
    "step_size = 0.0001\n",
    "tol = 0.001\n",
    "val = []\n",
    "\n",
    "def f(A, x):\n",
    "    return x.T@A.T@A@x\n",
    "\n",
    "while not converged:\n",
    "    \n",
    "    \n",
    "    val.append(f(A, x))\n",
    "    iteration += 1\n",
    "    x_next = x - step_size * (2*A.T@A@x)\n",
    "    \n",
    "    \n",
    "    if np.linalg.norm(x_next-x, 2)<=tol:\n",
    "        converged = True\n",
    "    x = x_next\n",
    "\n",
    "plt.plot(np.arange(iteration), np.array(val) - val[-1])\n",
    "plt.show()\n",
    "\n"
   ]
  },
  {
   "cell_type": "code",
   "execution_count": 55,
   "id": "1f92861c",
   "metadata": {},
   "outputs": [
    {
     "name": "stdout",
     "output_type": "stream",
     "text": [
      "270.29725673318575\n",
      "1.1529752377372777\n",
      "0.011006434023683526\n",
      "0.00012842859258090035\n",
      "1.612108033312703e-06\n"
     ]
    },
    {
     "data": {
      "image/png": "[encoded data removed]",
      "text/plain": [
       "<Figure size 432x288 with 1 Axes>"
      ]
     },
     "metadata": {
      "needs_background": "light"
     },
     "output_type": "display_data"
    }
   ],
   "source": [
    "############\n",
    "## Part B ##\n",
    "############\n",
    "\n",
    "\n",
    "x = np.ones(20)\n",
    "z = x\n",
    "#lambd = 1\n",
    "gamma_lst = []\n",
    "gamma = 1\n",
    "lambd = 1\n",
    "iteration_agd = 0\n",
    "converged = False\n",
    "step_size = 0.001\n",
    "tol = 0.001\n",
    "val_agd = []\n",
    "step_size = 0.001\n",
    "\n",
    "def f(A, x):\n",
    "    return x.T@A.T@A@x\n",
    "\n",
    "def f_inner(x, dy):\n",
    "    return x.T@dy\n",
    "\n",
    "def min_f_i_x(f_inner, dy, y):\n",
    "    x = cvx.Variable(20)\n",
    "    \n",
    "    #print(\"I executed1\")\n",
    "\n",
    "    obj = cvx.Minimize(f_inner(x, dy) + (1/2)*cvx.square(cvx.norm(x - y, 2)))\n",
    "    #constraint = [cvx.norm(x, 2)<=1]\n",
    "\n",
    "    prob = cvx.Problem(obj)\n",
    "    prob.solve()\n",
    "    #print(\"I executed3\")\n",
    "    \n",
    "    return x.value\n",
    "\n",
    "\"\"\"\n",
    "while not converged:\n",
    "    if iteration>3:\n",
    "        lambd, gamma = 6/(iteration*(iteration-1)), 2/iteration\n",
    "    y = step_size * ((1-gamma)*x + gamma_lst[-1]*z)\n",
    "    z = step_size * (z - gamma)/lambd * (2*A.T@A@y))\n",
    "    x = y - 2*A.T@A@y\n",
    "    \n",
    "\"\"\"\n",
    "\n",
    "while not converged:\n",
    "    if iteration<=4:\n",
    "        gamma_lst.append(0)\n",
    "    else:\n",
    "        gamma_lst.append(2/iteration)\n",
    "        \n",
    "    lambd = 1\n",
    "    for gamma in gamma_lst:\n",
    "        lambd *= (1-gamma)\n",
    "        \n",
    "        \n",
    "    y = step_size * ((1-gamma_lst[-1])*x + gamma_lst[-1]*z)\n",
    "    \n",
    "    z = step_size * (z - (gamma_lst[-1])/lambd * (2*A.T@A@y))\n",
    "    \n",
    "    #print(2*A.T@A@y)\n",
    "    \n",
    "    #x_tilde = (1/4)*np.linalg.inv(A.T@A)\n",
    "    \n",
    "    \n",
    "    #print(y)\n",
    "    x_next = y-2*A.T@A@y\n",
    "    #x_next = x_tilde + (1/2)*np.linalg.norm(x_tilde-y, 2)**2\n",
    "    \n",
    "    \n",
    "    val_agd.append(f(A, x))\n",
    "    #print(f(A, x))\n",
    "    iteration_agd += 1\n",
    "\n",
    "    \n",
    "    if np.linalg.norm(x_next-x, 2)<=tol:\n",
    "        converged = True\n",
    "    x = x_next\n",
    "\n",
    "\n",
    "plt.plot(np.arange(iteration), np.array(val) - val[-1])\n",
    "plt.plot(np.arange(iteration_agd), np.array(val_agd) - val_agd[-1])\n",
    "plt.show()\n"
   ]
  },
  {
   "cell_type": "code",
   "execution_count": 37,
   "id": "706b640c",
   "metadata": {},
   "outputs": [
    {
     "data": {
      "text/plain": [
       "808.6171967568695"
      ]
     },
     "execution_count": 37,
     "metadata": {},
     "output_type": "execute_result"
    }
   ],
   "source": [
    "def f_test(A, x, y):\n",
    "    return (2*A.T@A@y).T@x + (1/2)*(x-y).T@(x-y)\n",
    "x = np.ones(20)\n",
    "f_test(A, x, x)"
   ]
  },
  {
   "cell_type": "code",
   "execution_count": 48,
   "id": "1ef536e2",
   "metadata": {},
   "outputs": [
    {
     "data": {
      "text/plain": [
       "-27801.12893446809"
      ]
     },
     "execution_count": 48,
     "metadata": {},
     "output_type": "execute_result"
    }
   ],
   "source": [
    "x_next = x-2*A.T@A@x \n",
    "f_test(A, x_next, x)"
   ]
  },
  {
   "cell_type": "code",
   "execution_count": 49,
   "id": "92e9d0fd",
   "metadata": {},
   "outputs": [
    {
     "data": {
      "text/plain": [
       "404.30859837843474"
      ]
     },
     "execution_count": 49,
     "metadata": {},
     "output_type": "execute_result"
    }
   ],
   "source": [
    "f(A, x)"
   ]
  },
  {
   "cell_type": "code",
   "execution_count": 50,
   "id": "ddaa1069",
   "metadata": {},
   "outputs": [
    {
     "data": {
      "text/plain": [
       "2412099.202421182"
      ]
     },
     "execution_count": 50,
     "metadata": {},
     "output_type": "execute_result"
    }
   ],
   "source": [
    "f(A, x_next)"
   ]
  },
  {
   "cell_type": "code",
   "execution_count": null,
   "id": "afd5258d",
   "metadata": {},
   "outputs": [],
   "source": []
  }
 ],
 "metadata": {
  "kernelspec": {
   "display_name": "Python 3 (ipykernel)",
   "language": "python",
   "name": "python3"
  },
  "language_info": {
   "codemirror_mode": {
    "name": "ipython",
    "version": 3
   },
   "file_extension": ".py",
   "mimetype": "text/x-python",
   "name": "python",
   "nbconvert_exporter": "python",
   "pygments_lexer": "ipython3",
   "version": "3.9.5"
  }
 },
 "nbformat": 4,
 "nbformat_minor": 5
}
