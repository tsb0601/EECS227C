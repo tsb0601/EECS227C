{
 "cells": [
  {
   "cell_type": "code",
   "execution_count": 1,
   "id": "5a18e99a",
   "metadata": {},
   "outputs": [],
   "source": [
    "import numpy as np\n",
    "import matplotlib.pyplot as plt"
   ]
  },
  {
   "cell_type": "code",
   "execution_count": 13,
   "id": "a5a37fc6",
   "metadata": {},
   "outputs": [
    {
     "name": "stdout",
     "output_type": "stream",
     "text": [
      "[-0.95357178 -0.95357178 -0.95357178 -0.95357178 -0.95357178 -0.95357178\n",
      " -0.95357178 -0.95357178 -0.95357178 -0.95357178 -0.95357178 -0.95357178\n",
      " -0.95357178 -0.95357178 -0.95357178 -0.95357178 -0.95357178 -0.95357178\n",
      " -0.95357178 -0.95357178]\n",
      "-19.07143559844221\n"
     ]
    },
    {
     "data": {
      "image/png": "[encoded data removed]",
      "text/plain": [
       "<Figure size 432x288 with 1 Axes>"
      ]
     },
     "metadata": {
      "needs_background": "light"
     },
     "output_type": "display_data"
    }
   ],
   "source": [
    "t = 0\n",
    "converged = False\n",
    "x = np.zeros(20)\n",
    "x_0 = x\n",
    "c = np.ones(20)\n",
    "gamma = 0.1\n",
    "eps = 0.00001\n",
    "tol = 0.00001\n",
    "res = []\n",
    "k = 0\n",
    "# Since Constraint can be written as h_i(x) = x_i-1<=0 and -1 - x_i<=0\n",
    "def diff(x):\n",
    "    delta_phi = 0\n",
    "    \n",
    "    first_constraint = np.array([(-1)*(1/(x[i]-1)) for i in range(20)])\n",
    "    second_constraint = np.array([(-1)*((-1)/(-1-x[i])) for i in range(20)])\n",
    "    \n",
    "    return first_constraint + second_constraint\n",
    "\n",
    "def diffdiff(x):\n",
    "    first_constraint = np.array([1/((x[i]-1)**2)for i in range(20)])\n",
    "    second_constraint = np.array([1/((-1-x[i])**2)for i in range(20)])\n",
    "    return np.diag(first_constraint) + np.diag(second_constraint) \n",
    "\n",
    "while not converged:\n",
    "    #print(x@c)\n",
    "    \n",
    "    #t_next = t + gamma/np.linalg.norm(c, 2)\n",
    "    t_next = t + gamma/np.sqrt((c.T@diffdiff(x)@c))\n",
    "    \n",
    "    \n",
    "    x_next = x - (1/(1+eps))*(np.linalg.inv(diffdiff(x)))@(t_next*c+diff(x))\n",
    "    if np.linalg.norm(x_next - x)<=tol:\n",
    "        break\n",
    "    x, t = x_next, t_next\n",
    "    res.append(x@c)\n",
    "    k += 1\n",
    "    \n",
    "plt.plot(np.arange(k), res)\n",
    "\n",
    "\n",
    "print(x)\n",
    "print(x@c)\n"
   ]
  },
  {
   "cell_type": "code",
   "execution_count": null,
   "id": "dda910c7",
   "metadata": {},
   "outputs": [],
   "source": []
  }
 ],
 "metadata": {
  "kernelspec": {
   "display_name": "Python 3 (ipykernel)",
   "language": "python",
   "name": "python3"
  },
  "language_info": {
   "codemirror_mode": {
    "name": "ipython",
    "version": 3
   },
   "file_extension": ".py",
   "mimetype": "text/x-python",
   "name": "python",
   "nbconvert_exporter": "python",
   "pygments_lexer": "ipython3",
   "version": "3.9.5"
  }
 },
 "nbformat": 4,
 "nbformat_minor": 5
}
