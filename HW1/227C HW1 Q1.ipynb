{
 "cells": [
  {
   "cell_type": "code",
   "execution_count": 118,
   "id": "199f7a65",
   "metadata": {},
   "outputs": [],
   "source": [
    "import numpy as np\n",
    "import matplotlib.pyplot as plt"
   ]
  },
  {
   "cell_type": "code",
   "execution_count": 125,
   "id": "786d6d8a",
   "metadata": {},
   "outputs": [],
   "source": [
    "#############\n",
    "## Part(a) ##\n",
    "#############\n",
    "def get_A(k):\n",
    "    A = np.zeros((10, 10))\n",
    "    for i in range(10):\n",
    "        for j in range(10):\n",
    "            if i < j:\n",
    "                A[i, j] = np.exp((i+1)/(j+1))*np.cos((i+1)*(j+1))*np.sin(k)\n",
    "                A[j, i] = A[i, j]\n",
    "    \n",
    "    for i in range(10):\n",
    "        A[i, i] = ((i+1)/10)*abs(np.sin(k)) + sum([abs(A[i, j]) for j in range(10) if i!=j])\n",
    "    return A\n",
    "\n",
    "def get_b(k):\n",
    "    b = np.zeros((10))\n",
    "    for i in range(10):\n",
    "        b[i] = np.exp((i+1)/k)*np.sin((i+1)*k)\n",
    "    return b\n",
    "\n",
    "def solve_f(x):\n",
    "    k_val = []\n",
    "    for i in range(5):\n",
    "        k = i + 1\n",
    "        A_k = get_A(k)\n",
    "        b_k = get_b(k)\n",
    "        f_x = x.T @ A_k @ x - b_k.T @ x\n",
    "        k_val.append(f_x)\n",
    "    #print(\"Values are\", k_val)\n",
    "    return max(k_val)\n",
    "    "
   ]
  },
  {
   "cell_type": "code",
   "execution_count": 124,
   "id": "a887604c",
   "metadata": {},
   "outputs": [
    {
     "name": "stdout",
     "output_type": "stream",
     "text": [
      "f(x1) is : 5337.066429311362\n"
     ]
    }
   ],
   "source": [
    "#############\n",
    "## Part(a) ##\n",
    "#############\n",
    "x_1 = np.ones(10)\n",
    "print(\"f(x1) is :\", solve_f(x_1))\n",
    "\n"
   ]
  },
  {
   "cell_type": "code",
   "execution_count": 121,
   "id": "d8312745",
   "metadata": {},
   "outputs": [],
   "source": [
    "#############\n",
    "## Part(b) ##\n",
    "#############\n",
    "\n",
    "def find_descent(A, b, x):\n",
    "    df = 2*(A@x)-b\n",
    "    df_norm = np.linalg.norm(df, 2)\n",
    "    if df_norm == 0:\n",
    "        converged = True\n",
    "    else:\n",
    "        converged = False\n",
    "\n",
    "    return df/df_norm,converged, df_norm\n",
    "    \n",
    "\n"
   ]
  },
  {
   "cell_type": "code",
   "execution_count": 122,
   "id": "dd5a312f",
   "metadata": {},
   "outputs": [
    {
     "name": "stdout",
     "output_type": "stream",
     "text": [
      "x optimal is: 98.574325687121\n"
     ]
    },
    {
     "data": {
      "image/png": "[encoded data removed]",
      "text/plain": [
       "<Figure size 432x288 with 1 Axes>"
      ]
     },
     "metadata": {
      "needs_background": "light"
     },
     "output_type": "display_data"
    }
   ],
   "source": [
    "#############\n",
    "## Part(b) ##\n",
    "#############\n",
    "converge = False\n",
    "loss = []\n",
    "ite = []\n",
    "x = np.ones(10)\n",
    "t = 1\n",
    "C =0.08\n",
    "tol = 0.00001\n",
    "loglog_y = []\n",
    "while not converge:\n",
    "    ite.append(t)\n",
    "    \n",
    "    f_vals = solve_f(x)\n",
    "    x_i = np.argmax(f_vals) + 1\n",
    "    max_x = np.max(f_vals)\n",
    "    loglog_y.append(max_x)\n",
    "    A = get_A(x_i)\n",
    "    b = get_b(x_i)\n",
    "\n",
    "    \n",
    "    gx, converged , _= find_descent(A, b, x)\n",
    "    if converged:\n",
    "        break\n",
    "    #rint(gx)\n",
    "    step_size = C / np.sqrt(t)\n",
    "    \n",
    "    x_next = x - step_size * gx\n",
    "    if (np.linalg.norm(x, 2) - np.linalg.norm(x_next, 2))<tol:\n",
    "        break\n",
    "    x = x_next\n",
    "    \n",
    "    t = t + 1\n",
    "    \n",
    "x_optimal = loglog_y[-1]\n",
    "loglog_y = [x - x_optimal for x in loglog_y]\n",
    "plt.loglog(ite, loglog_y)\n",
    "print(\"x optimal is:\", x_optimal)\n",
    "\n"
   ]
  },
  {
   "cell_type": "code",
   "execution_count": 126,
   "id": "fbf0e88d",
   "metadata": {},
   "outputs": [
    {
     "ename": "MemoryError",
     "evalue": "",
     "output_type": "error",
     "traceback": [
      "\u001b[1;31m---------------------------------------------------------------------------\u001b[0m",
      "\u001b[1;31mMemoryError\u001b[0m                               Traceback (most recent call last)",
      "\u001b[1;32m~\\AppData\\Local\\Temp/ipykernel_5524/990182655.py\u001b[0m in \u001b[0;36m<module>\u001b[1;34m\u001b[0m\n\u001b[0;32m     16\u001b[0m \u001b[0mloglog_y\u001b[0m \u001b[1;33m=\u001b[0m \u001b[1;33m[\u001b[0m\u001b[1;33m]\u001b[0m\u001b[1;33m\u001b[0m\u001b[1;33m\u001b[0m\u001b[0m\n\u001b[0;32m     17\u001b[0m \u001b[1;32mwhile\u001b[0m \u001b[1;32mnot\u001b[0m \u001b[0mconverge\u001b[0m\u001b[1;33m:\u001b[0m\u001b[1;33m\u001b[0m\u001b[1;33m\u001b[0m\u001b[0m\n\u001b[1;32m---> 18\u001b[1;33m     \u001b[0mite\u001b[0m\u001b[1;33m.\u001b[0m\u001b[0mappend\u001b[0m\u001b[1;33m(\u001b[0m\u001b[0mt\u001b[0m\u001b[1;33m)\u001b[0m\u001b[1;33m\u001b[0m\u001b[1;33m\u001b[0m\u001b[0m\n\u001b[0m\u001b[0;32m     19\u001b[0m \u001b[1;33m\u001b[0m\u001b[0m\n\u001b[0;32m     20\u001b[0m     \u001b[0mf_vals\u001b[0m \u001b[1;33m=\u001b[0m \u001b[0msolve_f\u001b[0m\u001b[1;33m(\u001b[0m\u001b[0mx\u001b[0m\u001b[1;33m)\u001b[0m\u001b[1;33m\u001b[0m\u001b[1;33m\u001b[0m\u001b[0m\n",
      "\u001b[1;31mMemoryError\u001b[0m: "
     ]
    }
   ],
   "source": [
    "#############\n",
    "## Part(c) ##\n",
    "#############\n",
    "\n",
    "##########################################\n",
    "### Here I guess the optimal f(x*) is 0 ##\n",
    "##########################################\n",
    "\n",
    "converge = False\n",
    "loss = []\n",
    "ite = []\n",
    "x = np.ones(10)\n",
    "t = 1\n",
    "C =0.08\n",
    "tol = 0.0001\n",
    "loglog_y = []\n",
    "while not converge:\n",
    "    ite.append(t)\n",
    "    \n",
    "    f_vals = solve_f(x)\n",
    "    x_i = np.argmax(f_vals) + 1\n",
    "    max_x = np.max(f_vals)\n",
    "    loglog_y.append(max_x)\n",
    "    A = get_A(x_i)\n",
    "    b = get_b(x_i)\n",
    "\n",
    "    \n",
    "    gx, converged, g_norm = find_descent(A, b, x)\n",
    "    if converged:\n",
    "        break\n",
    "    #rint(gx)\n",
    "    step_size = max_x / g_norm\n",
    "    \n",
    "    x_next = x - step_size * gx\n",
    "    #if (np.linalg.norm(x, 2) - np.linalg.norm(x_next, 2))<tol:\n",
    "    #    break\n",
    "    x = x_next\n",
    "    \n",
    "    t = t + 1\n",
    "    \n",
    "x_optimal = loglog_y[-1]\n",
    "loglog_y = [x - x_optimal for x in loglog_y]\n",
    "plt.loglog(ite, loglog_y)\n",
    "print(\"x optimal is:\", x_optimal)\n",
    "\n",
    "\n"
   ]
  },
  {
   "cell_type": "code",
   "execution_count": null,
   "id": "1f92861c",
   "metadata": {},
   "outputs": [],
   "source": []
  },
  {
   "cell_type": "code",
   "execution_count": null,
   "id": "706b640c",
   "metadata": {},
   "outputs": [],
   "source": []
  },
  {
   "cell_type": "code",
   "execution_count": null,
   "id": "1ef536e2",
   "metadata": {},
   "outputs": [],
   "source": []
  }
 ],
 "metadata": {
  "kernelspec": {
   "display_name": "Python 3 (ipykernel)",
   "language": "python",
   "name": "python3"
  },
  "language_info": {
   "codemirror_mode": {
    "name": "ipython",
    "version": 3
   },
   "file_extension": ".py",
   "mimetype": "text/x-python",
   "name": "python",
   "nbconvert_exporter": "python",
   "pygments_lexer": "ipython3",
   "version": "3.9.5"
  }
 },
 "nbformat": 4,
 "nbformat_minor": 5
}
